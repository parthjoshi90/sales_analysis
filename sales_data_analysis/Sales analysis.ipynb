{
 "cells": [
  {
   "cell_type": "code",
   "execution_count": null,
   "metadata": {},
   "outputs": [],
   "source": [
    "import numpy as np\n",
    "import matplotlib.pyplot as plt\n",
    "import itertools\n",
    "from collections import defaultdict,Counter\n",
    "from itertools import groupby\n",
    "import calendar\n",
    "%matplotlib inline"
   ]
  },
  {
   "cell_type": "code",
   "execution_count": null,
   "metadata": {},
   "outputs": [],
   "source": [
    "file_name = 'sales_data_sample.csv'\n",
    "lines = (line for line in open(file_name, encoding='utf-8',errors='ignore'))\n",
    "list_line = (s.rstrip().split(\",\") for s in lines)\n",
    "cols = next(list_line)\n",
    "sales_data_generator = [each for each in (dict(zip(cols, data)) for data in list_line)]\n",
    "sales_data_generator_copy1 = sales_data_generator.copy()"
   ]
  },
  {
   "cell_type": "markdown",
   "metadata": {},
   "source": [
    "<h2>1. Getting the Total Sale</h2>"
   ]
  },
  {
   "cell_type": "code",
   "execution_count": null,
   "metadata": {},
   "outputs": [],
   "source": [
    "def get_total_sale(sales_data):\n",
    "    total_sales = 0.0\n",
    "    for each in sales_data:\n",
    "        total_sales+=float(each.get('SALES'))\n",
    "    return total_sales\n",
    "print(\"Total Sale:- \",round(get_total_sale(sales_data_generator),2))"
   ]
  },
  {
   "cell_type": "markdown",
   "metadata": {},
   "source": [
    "## 2. Quarterly Sales"
   ]
  },
  {
   "cell_type": "code",
   "execution_count": null,
   "metadata": {},
   "outputs": [],
   "source": [
    "# 1 . Using default_dict Core Python Way\n",
    "def get_quarter_wise_sale(sales_data_generator):\n",
    "    quarter_sale = defaultdict(float)\n",
    "    for each in sales_data_generator:\n",
    "        quarter_sale[each['QTR_ID']] += float(each.get('SALES'))\n",
    "    return quarter_sale\n",
    "\n",
    "quarter_sale_data = get_quarter_wise_sale(sales_data_generator)\n",
    "print(\"Quarter 1 Sale:-\",round(quarter_sale_data['1'],2))\n",
    "print(\"Quarter 2 Sale:-\",round(quarter_sale_data['2'],2))\n",
    "print(\"Quarter 3 Sale:-\",round(quarter_sale_data['3'],2))\n",
    "print(\"Quarter 4 Sale:-\",round(quarter_sale_data['4'],2))"
   ]
  },
  {
   "cell_type": "code",
   "execution_count": null,
   "metadata": {},
   "outputs": [],
   "source": [
    "print(\"Core Python Way\")\n",
    "def get_quarter_wise_sale(sales_data_generator):\n",
    "    quarter_sale = {}\n",
    "    for each in sales_data_generator:\n",
    "        if each['QTR_ID'] in quarter_sale:\n",
    "            quarter_sale.update({each.get('QTR_ID'):float(quarter_sale.get(each.get('QTR_ID')))+float(each.get('SALES'))})\n",
    "        else:\n",
    "            quarter_sale[each.get('QTR_ID')] = float(each.get('SALES'))\n",
    "    return quarter_sale\n",
    "\n",
    "quarter_sale_data = get_quarter_wise_sale(sales_data_generator)\n",
    "print(\"Quarter 1 Sale:-\",round(quarter_sale_data['1'],2))\n",
    "print(\"Quarter 2 Sale:-\",round(quarter_sale_data['2'],2))\n",
    "print(\"Quarter 3 Sale:-\",round(quarter_sale_data['3'],2))\n",
    "print(\"Quarter 4 Sale:-\",round(quarter_sale_data['4'],2))\n",
    "\n",
    "print(\"=\"*50)\n",
    "# Using python Itertools Python\n",
    "print(\"Using python Itertools Python\")\n",
    "new_sales_data_generator = sorted(sales_data_generator, key=lambda x:x['QTR_ID'])\n",
    "def get_quarterly_sale(sales_data_generator):\n",
    "    quaterly_sale = {}\n",
    "    for k,group in groupby(sales_data_generator,key=lambda x:x['QTR_ID']):\n",
    "        total_sum = 0.0\n",
    "        for each in group:\n",
    "            total_sum+= float(each.get('SALES'))\n",
    "        quaterly_sale[k] = round(total_sum,2) \n",
    "    return quaterly_sale\n",
    "\n",
    "quarterly_sale = get_quarterly_sale(new_sales_data_generator)\n",
    "print(\"Quarter 1 Sale:-\",quarterly_sale['1'])\n",
    "print(\"Quarter 2 Sale:-\",quarterly_sale['2'])\n",
    "print(\"Quarter 3 Sale:-\",quarterly_sale['3'])\n",
    "print(\"Quarter 4 Sale:-\",quarterly_sale['4'])\n",
    "x = np.array(list(quarterly_sale.keys()))\n",
    "y = np.array(list(quarterly_sale.values()))\n",
    "fig = plt.figure()\n",
    "ax = fig.add_axes([1,1,1,1])\n",
    "ax.set_ylabel('Sales')\n",
    "ax.set_xlabel('Quater')\n",
    "ax.bar(x,y)\n",
    "plt.show()"
   ]
  },
  {
   "cell_type": "markdown",
   "metadata": {},
   "source": [
    "## 3. Monthly Sale"
   ]
  },
  {
   "cell_type": "code",
   "execution_count": null,
   "metadata": {},
   "outputs": [],
   "source": [
    "# Core Python Way\n",
    "print(\"Core Python Way\")\n",
    "def get_month_wise_sale(sales_data_generator):\n",
    "    month_wise_sale = defaultdict(float)\n",
    "    for each in sales_data_generator:\n",
    "        month_wise_sale[each['MONTH_ID']] += round(float(each.get('SALES')),2)\n",
    "    return month_wise_sale\n",
    "\n",
    "month_wise_sale_data = get_month_wise_sale(sales_data_generator)\n",
    "print(\"month_wise_sale_data_sorted>>>>>>>>\",month_wise_sale_data)\n",
    "month_wise_sale_data_sorted = sorted(month_wise_sale_data, key = lambda k : int(k))"
   ]
  },
  {
   "cell_type": "code",
   "execution_count": null,
   "metadata": {},
   "outputs": [],
   "source": [
    "def get_month_name(month_int):\n",
    "    return calendar.month_name[month_int]\n",
    "\n",
    "# Core Python Way\n",
    "print(\"Core Python Way\")\n",
    "def get_month_wise_sale(sales_data_generator):\n",
    "    month_wise_sale = {}\n",
    "    for each in sales_data_generator:\n",
    "        if each['MONTH_ID'] in month_wise_sale:\n",
    "            month_wise_sale.update({each.get('MONTH_ID'):round(float(month_wise_sale[each.get('MONTH_ID')])+float(each.get('SALES')),2)})\n",
    "        else:\n",
    "            month_wise_sale[each.get('MONTH_ID',' ')] = round(float(each.get('SALES')),2)\n",
    "    return month_wise_sale\n",
    "\n",
    "month_wise_sale_data = get_month_wise_sale(sales_data_generator)\n",
    "print(\"month_wise_sale_data_sorted>>>>>>>>\",month_wise_sale_data)\n",
    "month_wise_sale_data_sorted = sorted(month_wise_sale_data, key = lambda k : int(k))\n",
    "print(\"month_wise_sale_data_sorted>>>>>>>>\",month_wise_sale_data_sorted)\n",
    "\n",
    "# Using python Itertools Python\n",
    "print(\"Using python Itertools Python\")\n",
    "\n",
    "new_sales_data_generator = sorted(sales_data_generator, key=lambda x:x['MONTH_ID'])\n",
    "\n",
    "def get_monthly_sale(sales_data_generator):\n",
    "    monthly_sale = {}\n",
    "    for k,group in groupby(sales_data_generator,key=lambda x:x['MONTH_ID']):\n",
    "        total = 0.0\n",
    "        for each in group:\n",
    "            total+=float(each.get('SALES'))\n",
    "        monthly_sale[k] = round(total,2)\n",
    "    return monthly_sale\n",
    "monthly_sale_data = get_monthly_sale(new_sales_data_generator)\n",
    "print(\"monthly_sale_data>>>>>>>>\",monthly_sale_data)\n",
    "monthly_sale_data_sorted = sorted(monthly_sale_data, key = lambda k : int(k))\n",
    "print(\"\\n\",monthly_sale_data_sorted)\n",
    "\n",
    "x = np.array([get_month_name(int(each)) for each in sorted(monthly_sale_data.keys(),key = lambda k : int(k))])\n",
    "y = np.array(list(monthly_sale_data.values()))\n",
    "# print(x,y)\n",
    "fig = plt.figure()\n",
    "ax = fig.add_axes([0,0,1,1])\n",
    "ax.set_xlabel(\"Month\")\n",
    "ax.set_ylabel(\"Sales\")\n",
    "plt.xticks(rotation=90)\n",
    "plt.bar(x,y)"
   ]
  },
  {
   "cell_type": "markdown",
   "metadata": {},
   "source": [
    "<h2> 3. Yearly Sales Details</h2>"
   ]
  },
  {
   "cell_type": "code",
   "execution_count": null,
   "metadata": {},
   "outputs": [],
   "source": [
    "new_sales_data_generator = sorted(sales_data_generator, key=lambda x:x['YEAR_ID'])\n",
    "def get_yearly_sale(sales_data_generator):\n",
    "    yearly_sale = {}\n",
    "    for k,group in groupby(sales_data_generator,key=lambda x:x['YEAR_ID']):\n",
    "        total = 0.0\n",
    "        for each in group:\n",
    "            total+=float(each.get('SALES'))\n",
    "        yearly_sale[k] = round(total,2)\n",
    "    return yearly_sale\n",
    "yearly_sale_data = get_yearly_sale(new_sales_data_generator)\n",
    "print(yearly_sale_data)\n",
    "x = np.array(list(yearly_sale_data.keys()))\n",
    "y = np.array(list(yearly_sale_data.values()))\n",
    "print(x,y)\n",
    "fig = plt.figure()\n",
    "ax = fig.add_axes([0,0,1,1])\n",
    "ax.set_xlabel(\"Year\")\n",
    "ax.set_ylabel(\"Sales\")\n",
    "plt.bar(x,y)"
   ]
  },
  {
   "cell_type": "markdown",
   "metadata": {},
   "source": [
    "<h2> 4. Status wise Order count.</h2>"
   ]
  },
  {
   "cell_type": "code",
   "execution_count": null,
   "metadata": {},
   "outputs": [],
   "source": [
    "new_sales_data_generator = sorted(sales_data_generator, key=lambda x:x['STATUS'])\n",
    "def get_order_status_count(sales_data_generator):\n",
    "    order_count = {}\n",
    "    for k,group in groupby(sales_data_generator,key=lambda x:x['STATUS']):\n",
    "        order_count[k] = len(list(group))\n",
    "    return order_count\n",
    "order_status_data = get_order_status_count(new_sales_data_generator)\n",
    "x = np.array(list(order_status_data.keys()))\n",
    "y = np.array(list(order_status_data.values()))\n",
    "fig = plt.figure(figsize=(9, 3))\n",
    "ax = fig.add_axes([0,1,1,1])\n",
    "ax.set_xlabel(\"Status\")\n",
    "ax.set_ylabel(\"Orders\")\n",
    "plt.bar(x,y)"
   ]
  },
  {
   "cell_type": "markdown",
   "metadata": {},
   "source": [
    "<h2> 5. Quarter Wise Order_status</h2>"
   ]
  },
  {
   "cell_type": "code",
   "execution_count": null,
   "metadata": {},
   "outputs": [],
   "source": [
    "# core python way\n",
    "\n",
    "def get_quarter_wise_sale_order_staus(sales_data_generator):\n",
    "    result = {}\n",
    "    for each in sales_data_generator:\n",
    "        if each.get('QTR_ID') in result:\n",
    "            if each.get('STATUS') in result[each.get('QTR_ID')]:\n",
    "                result[each.get('QTR_ID')].update({each.get('STATUS'):int(result[each.get('QTR_ID')][each.get('STATUS')])+1})\n",
    "            else:\n",
    "                result[each.get('QTR_ID')][each.get('STATUS')] = 1\n",
    "        else:\n",
    "            result[each.get('QTR_ID')] = {each.get('STATUS'):1}\n",
    "    return result\n",
    "\n",
    "print(get_quarter_wise_sale_order_staus(sales_data_generator))\n"
   ]
  },
  {
   "cell_type": "markdown",
   "metadata": {},
   "source": [
    "<h2> 6. Country Wise Sales</h2>"
   ]
  },
  {
   "cell_type": "code",
   "execution_count": null,
   "metadata": {},
   "outputs": [],
   "source": [
    "# def rounding(data):\n",
    "#     return data[0],round(data[1],2)\n",
    "\n",
    "# def country_wise_sale(sales_data_generator):\n",
    "#     country_sale = defaultdict(float)\n",
    "#     for each in sales_data_generator:\n",
    "#         country_sale[str(each['COUNTRY']).strip()] += float(each.get('SALES'))\n",
    "#     return country_sale\n",
    "\n",
    "# print(list(map(rounding, list(country_wise_sale(sales_data_generator).items()))))\n",
    "\n",
    "import csv\n",
    "def rounding(data):\n",
    "    return data[0],round(data[1],2)\n",
    "\n",
    "with open(\"sales_data_sample1.csv\") as data:\n",
    "    country_sale = defaultdict(float)\n",
    "    for each in csv.DictReader(data):\n",
    "        country_sale[str(each['COUNTRY']).strip()] += float(each.get('SALES'))\n",
    "print(\">>>>>>>>>>>>\",list(map(rounding, list(country_sale.items()))))"
   ]
  },
  {
   "cell_type": "markdown",
   "metadata": {},
   "source": [
    "## Month Wise Top 5 Product Salling"
   ]
  },
  {
   "cell_type": "code",
   "execution_count": null,
   "metadata": {},
   "outputs": [],
   "source": [
    "import csv\n",
    "def rounding(data):\n",
    "    return data[0],round(data[1],2)\n",
    "\n",
    "with open(\"sales_data_sample1.csv\") as data:\n",
    "    monthly_top_product = defaultdict(dict)\n",
    "    for each in csv.DictReader(data):\n",
    "        monthly_top_product[str(each['MONTH_ID'])].setdefault('top_product',Counter())\n",
    "        monthly_top_product[str(each['MONTH_ID'])]['top_product'][each.get('PRODUCTLINE')] += 1\n",
    "for month,top_product in monthly_top_product.items():\n",
    "    top_5_product = top_product['top_product'].most_common(5)\n",
    "    monthly_top_product[month]['top_product'] = top_5_product\n",
    "print(\"\\n\\n>>>>>>>>>>>>\",monthly_top_product)"
   ]
  },
  {
   "cell_type": "markdown",
   "metadata": {},
   "source": [
    "# Class based approach in Analysing the Data"
   ]
  },
  {
   "cell_type": "code",
   "execution_count": null,
   "metadata": {},
   "outputs": [],
   "source": [
    "import csv\n",
    "class OrderLine:\n",
    "    def __init__(self, row, header):\n",
    "        self.__dict__ = dict(zip(header, row))\n",
    "\n",
    "class Sale:\n",
    "    def __init__(self, orderlines):\n",
    "        self.orderlines = orderlines\n",
    "    \n",
    "    def make_round(self, data):\n",
    "        data_list = list(data.items())\n",
    "        return [(each[0],round(each[1],2)) for each in data_list]\n",
    "    \n",
    "    def get_quarter_wise_sale(self):\n",
    "        quarter_sale = defaultdict(float)\n",
    "        for each in self.orderlines:\n",
    "            quarter_sale[each.QTR_ID or '4'] += float(each.SALES or 0.0)\n",
    "        return self.make_round(quarter_sale)\n",
    "    \n",
    "    def country_wise_sale(self):\n",
    "        country_sale = defaultdict(float)\n",
    "        for each in self.orderlines:\n",
    "            country_sale[str(each.COUNTRY.strip()) or 'Undefine'] += float(each.SALES or 0.0)\n",
    "        return self.make_round(country_sale)\n",
    "    \n",
    "data = list(csv.reader(open('sales_data_sample.csv', encoding='utf-8',errors='ignore')))\n",
    "sale1 = Sale([OrderLine(i, data[0]) for i in data[1:]])\n",
    "\n",
    "print(sale1.get_quarter_wise_sale())\n",
    "print(sale1.country_wise_sale())"
   ]
  },
  {
   "cell_type": "code",
   "execution_count": null,
   "metadata": {},
   "outputs": [],
   "source": []
  }
 ],
 "metadata": {
  "kernelspec": {
   "display_name": "Python 3",
   "language": "python",
   "name": "python3"
  },
  "language_info": {
   "codemirror_mode": {
    "name": "ipython",
    "version": 3
   },
   "file_extension": ".py",
   "mimetype": "text/x-python",
   "name": "python",
   "nbconvert_exporter": "python",
   "pygments_lexer": "ipython3",
   "version": "3.6.10"
  }
 },
 "nbformat": 4,
 "nbformat_minor": 2
}
