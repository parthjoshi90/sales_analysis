{
 "cells": [
  {
   "cell_type": "code",
   "execution_count": 1,
   "metadata": {},
   "outputs": [],
   "source": [
    "from itertools import groupby"
   ]
  },
  {
   "cell_type": "code",
   "execution_count": 2,
   "metadata": {},
   "outputs": [],
   "source": [
    "file_name = 'sales_data_sample.csv'\n",
    "lines = (line for line in open(file_name, encoding='utf-8',errors='ignore'))\n",
    "list_line = (s.rstrip().split(\",\") for s in lines)\n",
    "cols = next(list_line)\n",
    "sales_data_generator = [each for each in (dict(zip(cols, data)) for data in list_line)]"
   ]
  },
  {
   "cell_type": "markdown",
   "metadata": {},
   "source": [
    "<h2>1. Getting the Total Sale</h2>"
   ]
  },
  {
   "cell_type": "code",
   "execution_count": 3,
   "metadata": {},
   "outputs": [
    {
     "name": "stdout",
     "output_type": "stream",
     "text": [
      "Total Sale:-  10032628.85\n"
     ]
    }
   ],
   "source": [
    "def get_total_sale(sales_data):\n",
    "    total_sales = 0.0\n",
    "    for each in sales_data:\n",
    "        total_sales+=float(each.get('SALES'))\n",
    "    return total_sales\n",
    "print(\"Total Sale:- \",round(get_total_sale(sales_data_generator),2))"
   ]
  },
  {
   "cell_type": "markdown",
   "metadata": {},
   "source": [
    "<h2>2. Quarterly Sales</h2>"
   ]
  },
  {
   "cell_type": "code",
   "execution_count": 6,
   "metadata": {},
   "outputs": [
    {
     "name": "stdout",
     "output_type": "stream",
     "text": [
      "Quarter 1 Sale:- 2350817.73\n",
      "Quarter 2 Sale:- 2048120.3\n",
      "Quarter 3 Sale:- 1758910.81\n",
      "Quarter 4 Sale:- 3874780.01\n"
     ]
    }
   ],
   "source": [
    "new_sales_data_generator = sorted(sales_data_generator, key=lambda x:x['QTR_ID'])\n",
    "def get_quarterly_sale(sales_data_generator):\n",
    "    quaterly_sale = {}\n",
    "    for k,group in groupby(sales_data_generator,key=lambda x:x['QTR_ID']):\n",
    "        total_sum = 0.0\n",
    "        for each in group:\n",
    "            total_sum+= float(each.get('SALES'))\n",
    "        quaterly_sale[k] = round(total_sum,2) \n",
    "    return quaterly_sale\n",
    "\n",
    "quarterly_sale = get_quarterly_sale(new_sales_data_generator)\n",
    "print(\"Quarter 1 Sale:-\",quarterly_sale['1'])\n",
    "print(\"Quarter 2 Sale:-\",quarterly_sale['2'])\n",
    "print(\"Quarter 3 Sale:-\",quarterly_sale['3'])\n",
    "print(\"Quarter 4 Sale:-\",quarterly_sale['4'])"
   ]
  },
  {
   "cell_type": "markdown",
   "metadata": {},
   "source": [
    "<h2> 3. Monthly Sale </h2>"
   ]
  },
  {
   "cell_type": "code",
   "execution_count": 7,
   "metadata": {},
   "outputs": [
    {
     "name": "stdout",
     "output_type": "stream",
     "text": [
      "{'1': 785874.44, '10': 1121215.22, '11': 2118885.67, '12': 634679.12, '2': 810441.9, '3': 754501.39, '4': 669390.96, '5': 923972.56, '6': 454756.78, '7': 514875.97, '8': 659310.57, '9': 584724.27}\n"
     ]
    }
   ],
   "source": [
    "new_sales_data_generator = sorted(sales_data_generator, key=lambda x:x['MONTH_ID'])\n",
    "def get_monthly_sale(sales_data_generator):\n",
    "    monthly_sale = {}\n",
    "    for k,group in groupby(sales_data_generator,key=lambda x:x['MONTH_ID']):\n",
    "        total = 0.0\n",
    "        for each in group:\n",
    "            total+=float(each.get('SALES'))\n",
    "        monthly_sale[k] = round(total,2)\n",
    "    return monthly_sale\n",
    "print(get_monthly_sale(new_sales_data_generator))"
   ]
  },
  {
   "cell_type": "markdown",
   "metadata": {},
   "source": [
    "<h2> 3. Yearly Sales Details</h2>"
   ]
  },
  {
   "cell_type": "code",
   "execution_count": 8,
   "metadata": {},
   "outputs": [
    {
     "name": "stdout",
     "output_type": "stream",
     "text": [
      "{'2003': 3516979.54, '2004': 4724162.6, '2005': 1791486.71}\n"
     ]
    }
   ],
   "source": [
    "new_sales_data_generator = sorted(sales_data_generator, key=lambda x:x['YEAR_ID'])\n",
    "def get_yearly_sale(sales_data_generator):\n",
    "    yearly_sale = {}\n",
    "    for k,group in groupby(sales_data_generator,key=lambda x:x['YEAR_ID']):\n",
    "        total = 0.0\n",
    "        for each in group:\n",
    "            total+=float(each.get('SALES'))\n",
    "        yearly_sale[k] = round(total,2)\n",
    "    return yearly_sale\n",
    "print(get_yearly_sale(new_sales_data_generator))"
   ]
  },
  {
   "cell_type": "code",
   "execution_count": null,
   "metadata": {},
   "outputs": [],
   "source": []
  }
 ],
 "metadata": {
  "kernelspec": {
   "display_name": "Python 3",
   "language": "python",
   "name": "python3"
  },
  "language_info": {
   "codemirror_mode": {
    "name": "ipython",
    "version": 3
   },
   "file_extension": ".py",
   "mimetype": "text/x-python",
   "name": "python",
   "nbconvert_exporter": "python",
   "pygments_lexer": "ipython3",
   "version": "3.6.10"
  }
 },
 "nbformat": 4,
 "nbformat_minor": 2
}
