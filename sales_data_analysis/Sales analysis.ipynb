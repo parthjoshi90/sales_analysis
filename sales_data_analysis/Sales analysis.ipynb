{
 "cells": [
  {
   "cell_type": "code",
   "execution_count": null,
   "metadata": {},
   "outputs": [],
   "source": [
    "import numpy as np\n",
    "import matplotlib.pyplot as plt\n",
    "import itertools\n",
    "from itertools import groupby\n",
    "import calendar\n",
    "%matplotlib inline"
   ]
  },
  {
   "cell_type": "code",
   "execution_count": null,
   "metadata": {},
   "outputs": [],
   "source": [
    "file_name = 'sales_data_sample.csv'\n",
    "lines = (line for line in open(file_name, encoding='utf-8',errors='ignore'))\n",
    "list_line = (s.rstrip().split(\",\") for s in lines)\n",
    "cols = next(list_line)\n",
    "sales_data_generator = [each for each in (dict(zip(cols, data)) for data in list_line)]"
   ]
  },
  {
   "cell_type": "markdown",
   "metadata": {},
   "source": [
    "<h2>1. Getting the Total Sale</h2>"
   ]
  },
  {
   "cell_type": "code",
   "execution_count": null,
   "metadata": {},
   "outputs": [],
   "source": [
    "def get_total_sale(sales_data):\n",
    "    total_sales = 0.0\n",
    "    for each in sales_data:\n",
    "        total_sales+=float(each.get('SALES'))\n",
    "    return total_sales\n",
    "print(\"Total Sale:- \",round(get_total_sale(sales_data_generator),2))"
   ]
  },
  {
   "cell_type": "markdown",
   "metadata": {},
   "source": [
    "<h2>2. Quarterly Sales</h2>"
   ]
  },
  {
   "cell_type": "code",
   "execution_count": null,
   "metadata": {},
   "outputs": [],
   "source": [
    "new_sales_data_generator = sorted(sales_data_generator, key=lambda x:x['QTR_ID'])\n",
    "def get_quarterly_sale(sales_data_generator):\n",
    "    quaterly_sale = {}\n",
    "    for k,group in groupby(sales_data_generator,key=lambda x:x['QTR_ID']):\n",
    "        total_sum = 0.0\n",
    "        for each in group:\n",
    "            total_sum+= float(each.get('SALES'))\n",
    "        quaterly_sale[k] = round(total_sum,2) \n",
    "    return quaterly_sale\n",
    "\n",
    "quarterly_sale = get_quarterly_sale(new_sales_data_generator)\n",
    "print(\"Quarter 1 Sale:-\",quarterly_sale['1'])\n",
    "print(\"Quarter 2 Sale:-\",quarterly_sale['2'])\n",
    "print(\"Quarter 3 Sale:-\",quarterly_sale['3'])\n",
    "print(\"Quarter 4 Sale:-\",quarterly_sale['4'])\n",
    "x = np.array(list(quarterly_sale.keys()))\n",
    "y = np.array(list(quarterly_sale.values()))\n",
    "fig = plt.figure()\n",
    "ax = fig.add_axes([1,1,1,1])\n",
    "ax.set_ylabel('Sales')\n",
    "ax.set_xlabel('Quater')\n",
    "ax.bar(x,y)\n",
    "plt.show()"
   ]
  },
  {
   "cell_type": "markdown",
   "metadata": {},
   "source": [
    "<h2> 3. Monthly Sale </h2>"
   ]
  },
  {
   "cell_type": "code",
   "execution_count": null,
   "metadata": {},
   "outputs": [],
   "source": [
    "new_sales_data_generator = sorted(sales_data_generator, key=lambda x:x['MONTH_ID'])\n",
    "\n",
    "def get_month_name(month_int):\n",
    "    return calendar.month_name[month_int]\n",
    "\n",
    "def get_monthly_sale(sales_data_generator):\n",
    "    monthly_sale = {}\n",
    "    for k,group in groupby(sales_data_generator,key=lambda x:x['MONTH_ID']):\n",
    "        total = 0.0\n",
    "        for each in group:\n",
    "            total+=float(each.get('SALES'))\n",
    "        monthly_sale[k] = round(total,2)\n",
    "    return monthly_sale\n",
    "monthly_sale_data = get_monthly_sale(new_sales_data_generator)\n",
    "print(sorted(monthly_sale_data, key = lambda k : int(k)))\n",
    "\n",
    "x = np.array([get_month_name(int(each)) for each in sorted(monthly_sale_data.keys(),key = lambda k : int(k))])\n",
    "y = np.array(list(monthly_sale_data.values()))\n",
    "# print(x,y)\n",
    "fig = plt.figure()\n",
    "ax = fig.add_axes([0,0,1,1])\n",
    "ax.set_xlabel(\"Month\")\n",
    "ax.set_ylabel(\"Sales\")\n",
    "plt.xticks(rotation=90)\n",
    "plt.bar(x,y)"
   ]
  },
  {
   "cell_type": "markdown",
   "metadata": {},
   "source": [
    "<h2> 3. Yearly Sales Details</h2>"
   ]
  },
  {
   "cell_type": "code",
   "execution_count": null,
   "metadata": {},
   "outputs": [],
   "source": [
    "new_sales_data_generator = sorted(sales_data_generator, key=lambda x:x['YEAR_ID'])\n",
    "def get_yearly_sale(sales_data_generator):\n",
    "    yearly_sale = {}\n",
    "    for k,group in groupby(sales_data_generator,key=lambda x:x['YEAR_ID']):\n",
    "        total = 0.0\n",
    "        for each in group:\n",
    "            total+=float(each.get('SALES'))\n",
    "        yearly_sale[k] = round(total,2)\n",
    "    return yearly_sale\n",
    "print(get_yearly_sale(new_sales_data_generator))"
   ]
  },
  {
   "cell_type": "markdown",
   "metadata": {},
   "source": [
    "<h2> 4. Status wise Order count.</h2>"
   ]
  },
  {
   "cell_type": "code",
   "execution_count": null,
   "metadata": {},
   "outputs": [],
   "source": [
    "new_sales_data_generator = sorted(sales_data_generator, key=lambda x:x['STATUS'])\n",
    "def get_order_status_count(sales_data_generator):\n",
    "    order_count = {}\n",
    "    for k,group in groupby(sales_data_generator,key=lambda x:x['STATUS']):\n",
    "        order_count[k] = len(list(group))\n",
    "    return order_count\n",
    "print(get_order_status_count(new_sales_data_generator))"
   ]
  },
  {
   "cell_type": "markdown",
   "metadata": {},
   "source": [
    "<h2> 5. Country Wise Sales</h2>"
   ]
  },
  {
   "cell_type": "code",
   "execution_count": null,
   "metadata": {},
   "outputs": [],
   "source": [
    "# print(\">>>>>>\",[each['COUNTRY'] for each in sales_data_generator])\n",
    "new_sales_data_generator = sorted(sales_data_generator, key=lambda x:x['COUNTRY'])\n",
    "# print(\">>>>>>\",[each['COUNTRY'] for each in new_sales_data_generator])\n",
    "def get_country_wise_sale(sales_data_generator):\n",
    "    country_sale = {}\n",
    "    for k,group in groupby(sales_data_generator,key=lambda x:x['COUNTRY']):\n",
    "        total = 0.0\n",
    "        for each in group:\n",
    "            total+=float(each.get('SALES'))\n",
    "        country_sale[k] = round(total,2)\n",
    "    return country_sale\n",
    "print(get_country_wise_sale(new_sales_data_generator))"
   ]
  },
  {
   "cell_type": "code",
   "execution_count": null,
   "metadata": {},
   "outputs": [],
   "source": []
  }
 ],
 "metadata": {
  "kernelspec": {
   "display_name": "Python 3",
   "language": "python",
   "name": "python3"
  },
  "language_info": {
   "codemirror_mode": {
    "name": "ipython",
    "version": 3
   },
   "file_extension": ".py",
   "mimetype": "text/x-python",
   "name": "python",
   "nbconvert_exporter": "python",
   "pygments_lexer": "ipython3",
   "version": "3.6.10"
  }
 },
 "nbformat": 4,
 "nbformat_minor": 2
}
